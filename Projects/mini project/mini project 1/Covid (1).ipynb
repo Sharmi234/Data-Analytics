{
 "cells": [
  {
   "cell_type": "code",
   "execution_count": 1,
   "id": "0cb22275",
   "metadata": {},
   "outputs": [
    {
     "name": "stdout",
     "output_type": "stream",
     "text": [
      "         Country/Region  Confirmed  Deaths  Recovered  Active  New cases  \\\n",
      "0           Afghanistan      36263    1269      25198    9796        106   \n",
      "1               Albania       4880     144       2745    1991        117   \n",
      "2               Algeria      27973    1163      18837    7973        616   \n",
      "3               Andorra        907      52        803      52         10   \n",
      "4                Angola        950      41        242     667         18   \n",
      "..                  ...        ...     ...        ...     ...        ...   \n",
      "182  West Bank and Gaza      10621      78       3752    6791        152   \n",
      "183      Western Sahara         10       1          8       1          0   \n",
      "184               Yemen       1691     483        833     375         10   \n",
      "185              Zambia       4552     140       2815    1597         71   \n",
      "186            Zimbabwe       2704      36        542    2126        192   \n",
      "\n",
      "     New deaths  New recovered  Deaths / 100 Cases  Recovered / 100 Cases  \\\n",
      "0            10             18                3.50                  69.49   \n",
      "1             6             63                2.95                  56.25   \n",
      "2             8            749                4.16                  67.34   \n",
      "3             0              0                5.73                  88.53   \n",
      "4             1              0                4.32                  25.47   \n",
      "..          ...            ...                 ...                    ...   \n",
      "182           2              0                0.73                  35.33   \n",
      "183           0              0               10.00                  80.00   \n",
      "184           4             36               28.56                  49.26   \n",
      "185           1            465                3.08                  61.84   \n",
      "186           2             24                1.33                  20.04   \n",
      "\n",
      "     Deaths / 100 Recovered  Confirmed last week  1 week change  \\\n",
      "0                      5.04                35526            737   \n",
      "1                      5.25                 4171            709   \n",
      "2                      6.17                23691           4282   \n",
      "3                      6.48                  884             23   \n",
      "4                     16.94                  749            201   \n",
      "..                      ...                  ...            ...   \n",
      "182                    2.08                 8916           1705   \n",
      "183                   12.50                   10              0   \n",
      "184                   57.98                 1619             72   \n",
      "185                    4.97                 3326           1226   \n",
      "186                    6.64                 1713            991   \n",
      "\n",
      "     1 week % increase             WHO Region  \n",
      "0                 2.07  Eastern Mediterranean  \n",
      "1                17.00                 Europe  \n",
      "2                18.07                 Africa  \n",
      "3                 2.60                 Europe  \n",
      "4                26.84                 Africa  \n",
      "..                 ...                    ...  \n",
      "182              19.12  Eastern Mediterranean  \n",
      "183               0.00                 Africa  \n",
      "184               4.45  Eastern Mediterranean  \n",
      "185              36.86                 Africa  \n",
      "186              57.85                 Africa  \n",
      "\n",
      "[187 rows x 15 columns]\n"
     ]
    }
   ],
   "source": [
    "import pandas as pd\n",
    "import numpy as np\n",
    "df1=pd.read_csv(\"country_wise_latest_covid.csv\")\n",
    "print(df1)"
   ]
  },
  {
   "cell_type": "code",
   "execution_count": 2,
   "id": "b1503a65",
   "metadata": {},
   "outputs": [
    {
     "data": {
      "text/html": [
       "<div>\n",
       "<style scoped>\n",
       "    .dataframe tbody tr th:only-of-type {\n",
       "        vertical-align: middle;\n",
       "    }\n",
       "\n",
       "    .dataframe tbody tr th {\n",
       "        vertical-align: top;\n",
       "    }\n",
       "\n",
       "    .dataframe thead th {\n",
       "        text-align: right;\n",
       "    }\n",
       "</style>\n",
       "<table border=\"1\" class=\"dataframe\">\n",
       "  <thead>\n",
       "    <tr style=\"text-align: right;\">\n",
       "      <th></th>\n",
       "      <th>Confirmed</th>\n",
       "    </tr>\n",
       "    <tr>\n",
       "      <th>Country/Region</th>\n",
       "      <th></th>\n",
       "    </tr>\n",
       "  </thead>\n",
       "  <tbody>\n",
       "    <tr>\n",
       "      <th>US</th>\n",
       "      <td>4290259</td>\n",
       "    </tr>\n",
       "    <tr>\n",
       "      <th>Brazil</th>\n",
       "      <td>2442375</td>\n",
       "    </tr>\n",
       "    <tr>\n",
       "      <th>India</th>\n",
       "      <td>1480073</td>\n",
       "    </tr>\n",
       "    <tr>\n",
       "      <th>Russia</th>\n",
       "      <td>816680</td>\n",
       "    </tr>\n",
       "    <tr>\n",
       "      <th>South Africa</th>\n",
       "      <td>452529</td>\n",
       "    </tr>\n",
       "    <tr>\n",
       "      <th>Mexico</th>\n",
       "      <td>395489</td>\n",
       "    </tr>\n",
       "    <tr>\n",
       "      <th>Peru</th>\n",
       "      <td>389717</td>\n",
       "    </tr>\n",
       "    <tr>\n",
       "      <th>Chile</th>\n",
       "      <td>347923</td>\n",
       "    </tr>\n",
       "    <tr>\n",
       "      <th>United Kingdom</th>\n",
       "      <td>301708</td>\n",
       "    </tr>\n",
       "    <tr>\n",
       "      <th>Iran</th>\n",
       "      <td>293606</td>\n",
       "    </tr>\n",
       "  </tbody>\n",
       "</table>\n",
       "</div>"
      ],
      "text/plain": [
       "                Confirmed\n",
       "Country/Region           \n",
       "US                4290259\n",
       "Brazil            2442375\n",
       "India             1480073\n",
       "Russia             816680\n",
       "South Africa       452529\n",
       "Mexico             395489\n",
       "Peru               389717\n",
       "Chile              347923\n",
       "United Kingdom     301708\n",
       "Iran               293606"
      ]
     },
     "execution_count": 2,
     "metadata": {},
     "output_type": "execute_result"
    }
   ],
   "source": [
    "max = pd.DataFrame(df1.groupby(\"Country/Region\")['Confirmed']\n",
    "                               .agg('sum')).sort_values(by='Confirmed',ascending=False,axis=0)\n",
    "\n",
    "max.head(10)"
   ]
  },
  {
   "cell_type": "code",
   "execution_count": 3,
   "id": "464ed72f",
   "metadata": {},
   "outputs": [
    {
     "data": {
      "text/html": [
       "<div>\n",
       "<style scoped>\n",
       "    .dataframe tbody tr th:only-of-type {\n",
       "        vertical-align: middle;\n",
       "    }\n",
       "\n",
       "    .dataframe tbody tr th {\n",
       "        vertical-align: top;\n",
       "    }\n",
       "\n",
       "    .dataframe thead th {\n",
       "        text-align: right;\n",
       "    }\n",
       "</style>\n",
       "<table border=\"1\" class=\"dataframe\">\n",
       "  <thead>\n",
       "    <tr style=\"text-align: right;\">\n",
       "      <th></th>\n",
       "      <th>Confirmed</th>\n",
       "    </tr>\n",
       "    <tr>\n",
       "      <th>Country/Region</th>\n",
       "      <th></th>\n",
       "    </tr>\n",
       "  </thead>\n",
       "  <tbody>\n",
       "    <tr>\n",
       "      <th>Western Sahara</th>\n",
       "      <td>10</td>\n",
       "    </tr>\n",
       "    <tr>\n",
       "      <th>Holy See</th>\n",
       "      <td>12</td>\n",
       "    </tr>\n",
       "    <tr>\n",
       "      <th>Greenland</th>\n",
       "      <td>14</td>\n",
       "    </tr>\n",
       "    <tr>\n",
       "      <th>Saint Kitts and Nevis</th>\n",
       "      <td>17</td>\n",
       "    </tr>\n",
       "    <tr>\n",
       "      <th>Dominica</th>\n",
       "      <td>18</td>\n",
       "    </tr>\n",
       "  </tbody>\n",
       "</table>\n",
       "</div>"
      ],
      "text/plain": [
       "                       Confirmed\n",
       "Country/Region                  \n",
       "Western Sahara                10\n",
       "Holy See                      12\n",
       "Greenland                     14\n",
       "Saint Kitts and Nevis         17\n",
       "Dominica                      18"
      ]
     },
     "execution_count": 3,
     "metadata": {},
     "output_type": "execute_result"
    }
   ],
   "source": [
    "#min\n",
    "min= pd.DataFrame(df1.groupby(\"Country/Region\")['Confirmed'].agg('sum')).sort_values(by='Confirmed',ascending=True,axis=0)\n",
    "\n",
    "min.head()"
   ]
  },
  {
   "cell_type": "code",
   "execution_count": 4,
   "id": "635b7f04",
   "metadata": {},
   "outputs": [
    {
     "name": "stdout",
     "output_type": "stream",
     "text": [
      "United Kingdom\n",
      "45844\n"
     ]
    }
   ],
   "source": [
    "Country = df1[df1['WHO Region'] == 'Europe']\n",
    "\n",
    "print(Country.loc[Country['Deaths'].idxmax()]['Country/Region'])\n",
    "print(Country.loc[Country['Deaths'].idxmax()]['Deaths'])"
   ]
  },
  {
   "cell_type": "code",
   "execution_count": 5,
   "id": "05ff9d10",
   "metadata": {},
   "outputs": [
    {
     "name": "stdout",
     "output_type": "stream",
     "text": [
      "US\n",
      "148011\n"
     ]
    }
   ],
   "source": [
    "Country = df1[df1['WHO Region'] == 'Americas']\n",
    "\n",
    "print(Country.loc[Country['Deaths'].idxmax()]['Country/Region'])\n",
    "print(Country.loc[Country['Deaths'].idxmax()]['Deaths'])"
   ]
  },
  {
   "cell_type": "code",
   "execution_count": 6,
   "id": "5687a16f",
   "metadata": {},
   "outputs": [
    {
     "data": {
      "text/html": [
       "<div>\n",
       "<style scoped>\n",
       "    .dataframe tbody tr th:only-of-type {\n",
       "        vertical-align: middle;\n",
       "    }\n",
       "\n",
       "    .dataframe tbody tr th {\n",
       "        vertical-align: top;\n",
       "    }\n",
       "\n",
       "    .dataframe thead th {\n",
       "        text-align: right;\n",
       "    }\n",
       "</style>\n",
       "<table border=\"1\" class=\"dataframe\">\n",
       "  <thead>\n",
       "    <tr style=\"text-align: right;\">\n",
       "      <th></th>\n",
       "      <th>Recovered</th>\n",
       "    </tr>\n",
       "    <tr>\n",
       "      <th>Country/Region</th>\n",
       "      <th></th>\n",
       "    </tr>\n",
       "  </thead>\n",
       "  <tbody>\n",
       "    <tr>\n",
       "      <th>South Africa</th>\n",
       "      <td>274925</td>\n",
       "    </tr>\n",
       "    <tr>\n",
       "      <th>Ghana</th>\n",
       "      <td>29801</td>\n",
       "    </tr>\n",
       "    <tr>\n",
       "      <th>Algeria</th>\n",
       "      <td>18837</td>\n",
       "    </tr>\n",
       "    <tr>\n",
       "      <th>Nigeria</th>\n",
       "      <td>18203</td>\n",
       "    </tr>\n",
       "    <tr>\n",
       "      <th>Cameroon</th>\n",
       "      <td>14539</td>\n",
       "    </tr>\n",
       "    <tr>\n",
       "      <th>Cote d'Ivoire</th>\n",
       "      <td>10361</td>\n",
       "    </tr>\n",
       "    <tr>\n",
       "      <th>Kenya</th>\n",
       "      <td>7833</td>\n",
       "    </tr>\n",
       "    <tr>\n",
       "      <th>Senegal</th>\n",
       "      <td>6477</td>\n",
       "    </tr>\n",
       "    <tr>\n",
       "      <th>Ethiopia</th>\n",
       "      <td>6386</td>\n",
       "    </tr>\n",
       "    <tr>\n",
       "      <th>Madagascar</th>\n",
       "      <td>6260</td>\n",
       "    </tr>\n",
       "  </tbody>\n",
       "</table>\n",
       "</div>"
      ],
      "text/plain": [
       "                Recovered\n",
       "Country/Region           \n",
       "South Africa       274925\n",
       "Ghana               29801\n",
       "Algeria             18837\n",
       "Nigeria             18203\n",
       "Cameroon            14539\n",
       "Cote d'Ivoire       10361\n",
       "Kenya                7833\n",
       "Senegal              6477\n",
       "Ethiopia             6386\n",
       "Madagascar           6260"
      ]
     },
     "execution_count": 6,
     "metadata": {},
     "output_type": "execute_result"
    }
   ],
   "source": [
    "Country = df1[df1['WHO Region'] == 'Africa']\n",
    "max = pd.DataFrame(Country.groupby(\"Country/Region\")['Recovered']\n",
    "                               .agg('sum')).sort_values(by='Recovered',ascending=False,axis=0)\n",
    "\n",
    "max.head(10)"
   ]
  },
  {
   "cell_type": "code",
   "execution_count": 7,
   "id": "b96d76df",
   "metadata": {},
   "outputs": [
    {
     "name": "stdout",
     "output_type": "stream",
     "text": [
      "Brazil\n",
      "1846641\n"
     ]
    }
   ],
   "source": [
    "print(df1.loc[df1['Recovered'].idxmax()]['Country/Region'])\n",
    "print(df1.loc[df1['Recovered'].idxmax()]['Recovered'])"
   ]
  },
  {
   "cell_type": "code",
   "execution_count": null,
   "id": "8d3a3913",
   "metadata": {},
   "outputs": [],
   "source": []
  }
 ],
 "metadata": {
  "kernelspec": {
   "display_name": "Python 3 (ipykernel)",
   "language": "python",
   "name": "python3"
  },
  "language_info": {
   "codemirror_mode": {
    "name": "ipython",
    "version": 3
   },
   "file_extension": ".py",
   "mimetype": "text/x-python",
   "name": "python",
   "nbconvert_exporter": "python",
   "pygments_lexer": "ipython3",
   "version": "3.9.12"
  }
 },
 "nbformat": 4,
 "nbformat_minor": 5
}
