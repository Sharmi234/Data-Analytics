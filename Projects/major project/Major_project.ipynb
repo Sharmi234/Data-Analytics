{
  "cells": [
    {
      "cell_type": "code",
      "source": [
        "a=pd.read_excel(\"/content/sales_data_sample.xlsx\")"
      ],
      "metadata": {
        "id": "Q5PR0fDOHW1s"
      },
      "execution_count": null,
      "outputs": []
    },
    {
      "cell_type": "code",
      "source": [
        "#1.\n",
        "total_sales_per_year = a.groupby('YEAR_ID')['SALES'].sum().reset_index()\n",
        "print(total_sales_per_year)\n"
      ],
      "metadata": {
        "colab": {
          "base_uri": "https://localhost:8080/"
        },
        "id": "eQfFagfRLok2",
        "outputId": "abce424b-b293-4fef-c537-e412f5ecfed1"
      },
      "execution_count": null,
      "outputs": [
        {
          "output_type": "stream",
          "name": "stdout",
          "text": [
            "   YEAR_ID       SALES\n",
            "0     2003  3516979.54\n",
            "1     2004  4724162.60\n",
            "2     2005  1791486.71\n"
          ]
        }
      ]
    },
    {
      "cell_type": "code",
      "source": [
        "import numpy as np\n",
        "import pandas as pd"
      ],
      "metadata": {
        "id": "7mbGJ5NAHPNY"
      },
      "execution_count": null,
      "outputs": []
    },
    {
      "cell_type": "code",
      "source": [
        "#2.\n",
        "highest_sales_order = a.loc[a['SALES'].idxmax()]\n",
        "print(\"Order with the highest sales amount:\")\n",
        "print(highest_sales_order)"
      ],
      "metadata": {
        "colab": {
          "base_uri": "https://localhost:8080/"
        },
        "id": "HnWtjWxsM7tF",
        "outputId": "05f4c506-15cd-41a9-dcbb-91d42688b133"
      },
      "execution_count": null,
      "outputs": [
        {
          "output_type": "stream",
          "name": "stdout",
          "text": [
            "Order with the highest sales amount:\n",
            "ORDERNUMBER                             10407\n",
            "QUANTITYORDERED                            76\n",
            "PRICEEACH                               100.0\n",
            "ORDERLINENUMBER                             2\n",
            "SALES                                 14082.8\n",
            "ORDERDATE                 2005-04-22 00:00:00\n",
            "STATUS                                On Hold\n",
            "QTR_ID                                      2\n",
            "MONTH_ID                                    4\n",
            "YEAR_ID                                  2005\n",
            "PRODUCTLINE                      Vintage Cars\n",
            "MSRP                                      170\n",
            "PRODUCTCODE                          S18_1749\n",
            "CUSTOMERNAME        The Sharp Gifts Warehouse\n",
            "PHONE                              4085553659\n",
            "ADDRESSLINE1                   3086 Ingle Ln.\n",
            "ADDRESSLINE2                              NaN\n",
            "CITY                                 San Jose\n",
            "STATE                                      CA\n",
            "POSTALCODE                              94217\n",
            "COUNTRY                                   USA\n",
            "TERRITORY                                 NaN\n",
            "CONTACTLASTNAME                         Frick\n",
            "CONTACTFIRSTNAME                          Sue\n",
            "DEALSIZE                                Large\n",
            "Name: 598, dtype: object\n"
          ]
        }
      ]
    },
    {
      "cell_type": "code",
      "source": [
        "#3.\n",
        "average_price = a['PRICEEACH'].mean()\n",
        "print(f\"Average price for all orders: {average_price}\")\n"
      ],
      "metadata": {
        "colab": {
          "base_uri": "https://localhost:8080/"
        },
        "id": "Poeg5vRKNeLu",
        "outputId": "4a7c622b-efef-4cd4-9be8-7bcb13c4cf0d"
      },
      "execution_count": null,
      "outputs": [
        {
          "output_type": "stream",
          "name": "stdout",
          "text": [
            "Average price for all orders: 83.65854410201914\n"
          ]
        }
      ]
    },
    {
      "cell_type": "code",
      "source": [
        "#3.\n",
        "average_price = a['SALES'].mean()\n",
        "print(f\"Average price for all orders: {average_price}\")"
      ],
      "metadata": {
        "colab": {
          "base_uri": "https://localhost:8080/"
        },
        "id": "aT8uPqibODoJ",
        "outputId": "b71db14c-a420-4f0e-f0a9-40136b725092"
      },
      "execution_count": null,
      "outputs": [
        {
          "output_type": "stream",
          "name": "stdout",
          "text": [
            "Average price for all orders: 3553.889071909316\n"
          ]
        }
      ]
    },
    {
      "cell_type": "code",
      "source": [
        "#4.\n",
        "def count_orders_for_product(product_code):\n",
        "    product_orders = a[a['PRODUCTCODE'] == product_code]\n",
        "    num_orders = len(product_orders)\n",
        "    return num_orders\n",
        "\n",
        "product_code = 'S10_1678'\n",
        "num_orders = count_orders_for_product(product_code)\n",
        "print(f\"Number of orders for product {product_code}: {num_orders}\")\n"
      ],
      "metadata": {
        "colab": {
          "base_uri": "https://localhost:8080/"
        },
        "id": "v7chy_l4OLh0",
        "outputId": "a75ba6a1-42ae-4ec8-ae11-3c3f8a4dc78f"
      },
      "execution_count": null,
      "outputs": [
        {
          "output_type": "stream",
          "name": "stdout",
          "text": [
            "Number of orders for product S10_1678: 26\n"
          ]
        }
      ]
    },
    {
      "cell_type": "code",
      "source": [
        "#5.\n",
        "a['ORDERDATE'] = pd.to_datetime(a['ORDERDATE'])\n",
        "a['MONTH_ID'] = a['ORDERDATE'].dt.month\n",
        "\n",
        "total_sales_per_month = a.groupby('MONTH_ID')['SALES'].sum().reset_index()\n",
        "\n",
        "month_with_highest_sales = total_sales_per_month.loc[total_sales_per_month['SALES'].idxmax()]\n",
        "\n",
        "print(f\"Month with the highest total sales: {month_with_highest_sales['MONTH_ID']}\")\n",
        "\n"
      ],
      "metadata": {
        "colab": {
          "base_uri": "https://localhost:8080/"
        },
        "id": "eKGrh_Y1O5EW",
        "outputId": "93149f22-755b-4ea9-ff28-31c4326030da"
      },
      "execution_count": null,
      "outputs": [
        {
          "output_type": "stream",
          "name": "stdout",
          "text": [
            "Month with the highest total sales: 11.0\n"
          ]
        }
      ]
    },
    {
      "cell_type": "code",
      "source": [
        "#6.\n",
        "total_sales_per_product_line = a.groupby('PRODUCTLINE')['SALES'].sum().reset_index()\n",
        "print(total_sales_per_product_line)"
      ],
      "metadata": {
        "colab": {
          "base_uri": "https://localhost:8080/"
        },
        "id": "pu1PsTREO46e",
        "outputId": "c8af8791-2f2a-401d-c348-432f36caca91"
      },
      "execution_count": null,
      "outputs": [
        {
          "output_type": "stream",
          "name": "stdout",
          "text": [
            "        PRODUCTLINE       SALES\n",
            "0      Classic Cars  3919615.66\n",
            "1       Motorcycles  1166388.34\n",
            "2            Planes   975003.57\n",
            "3             Ships   714437.13\n",
            "4            Trains   226243.47\n",
            "5  Trucks and Buses  1127789.84\n",
            "6      Vintage Cars  1903150.84\n"
          ]
        }
      ]
    },
    {
      "cell_type": "code",
      "source": [
        "#7.\n",
        "lowest_price_order = a.loc[a['PRICEEACH'].idxmin()]\n",
        "print(\"Order with the lowest price per unit:\")\n",
        "print(lowest_price_order)\n",
        "\n"
      ],
      "metadata": {
        "id": "CqUU-Q-vRnGV",
        "outputId": "6900412c-c1ce-4c59-d089-5a0ed56e1f6f",
        "colab": {
          "base_uri": "https://localhost:8080/"
        }
      },
      "execution_count": null,
      "outputs": [
        {
          "output_type": "stream",
          "name": "stdout",
          "text": [
            "Order with the lowest price per unit:\n",
            "ORDERNUMBER                                           10420\n",
            "QUANTITYORDERED                                          45\n",
            "PRICEEACH                                             26.88\n",
            "ORDERLINENUMBER                                           1\n",
            "SALES                                                1209.6\n",
            "ORDERDATE                               2005-05-29 00:00:00\n",
            "STATUS                                           In Process\n",
            "QTR_ID                                                    2\n",
            "MONTH_ID                                                  5\n",
            "YEAR_ID                                                2005\n",
            "PRODUCTLINE                                    Vintage Cars\n",
            "MSRP                                                     33\n",
            "PRODUCTCODE                                        S24_1937\n",
            "CUSTOMERNAME                      Souveniers And Things Co.\n",
            "PHONE                                       +61 2 9495 8555\n",
            "ADDRESSLINE1        Monitor Money Building, 815 Pacific Hwy\n",
            "ADDRESSLINE2                                        Level 6\n",
            "CITY                                              Chatswood\n",
            "STATE                                                   NSW\n",
            "POSTALCODE                                             2067\n",
            "COUNTRY                                           Australia\n",
            "TERRITORY                                              APAC\n",
            "CONTACTLASTNAME                                      Huxley\n",
            "CONTACTFIRSTNAME                                     Adrian\n",
            "DEALSIZE                                              Small\n",
            "Name: 1563, dtype: object\n"
          ]
        }
      ]
    },
    {
      "cell_type": "code",
      "source": [
        "#8.\n",
        "def filter_orders_by_status(a, status):\n",
        "    filtered_data = a[a['STATUS'] == status]\n",
        "    return filtered_data\n",
        "\n",
        "status = 'Shipped'\n",
        "shipped_orders = filter_orders_by_status(a, status)\n",
        "print(\"Orders with status 'Shipped':\")\n",
        "print(shipped_orders)\n"
      ],
      "metadata": {
        "id": "-rSTdQUWVoZI",
        "outputId": "fd532b36-984e-409a-e179-953189f99767",
        "colab": {
          "base_uri": "https://localhost:8080/"
        }
      },
      "execution_count": null,
      "outputs": [
        {
          "output_type": "stream",
          "name": "stdout",
          "text": [
            "Orders with status 'Shipped':\n",
            "      ORDERNUMBER  QUANTITYORDERED  PRICEEACH  ORDERLINENUMBER    SALES  \\\n",
            "0           10107               30      95.70                2  2871.00   \n",
            "1           10121               34      81.35                5  2765.90   \n",
            "2           10134               41      94.74                2  3884.34   \n",
            "3           10145               45      83.26                6  3746.70   \n",
            "4           10159               49     100.00               14  5205.27   \n",
            "...           ...              ...        ...              ...      ...   \n",
            "2815        10315               40      55.69                5  2227.60   \n",
            "2817        10337               42      97.16                5  4080.72   \n",
            "2818        10350               20     100.00               15  2244.40   \n",
            "2819        10373               29     100.00                1  3978.51   \n",
            "2821        10397               34      62.24                1  2116.16   \n",
            "\n",
            "      ORDERDATE   STATUS  QTR_ID  MONTH_ID  YEAR_ID  ...  \\\n",
            "0    2003-02-24  Shipped       1         2     2003  ...   \n",
            "1    2003-05-07  Shipped       2         5     2003  ...   \n",
            "2    2003-07-01  Shipped       3         7     2003  ...   \n",
            "3    2003-08-25  Shipped       3         8     2003  ...   \n",
            "4    2003-10-10  Shipped       4        10     2003  ...   \n",
            "...         ...      ...     ...       ...      ...  ...   \n",
            "2815 2004-10-29  Shipped       4        10     2004  ...   \n",
            "2817 2004-11-21  Shipped       4        11     2004  ...   \n",
            "2818 2004-12-02  Shipped       4        12     2004  ...   \n",
            "2819 2005-01-31  Shipped       1         1     2005  ...   \n",
            "2821 2005-03-28  Shipped       1         3     2005  ...   \n",
            "\n",
            "                       ADDRESSLINE1  ADDRESSLINE2           CITY STATE  \\\n",
            "0           897 Long Airport Avenue           NaN            NYC    NY   \n",
            "1                59 rue de l'Abbaye           NaN          Reims   NaN   \n",
            "2     27 rue du Colonel Pierre Avia           NaN          Paris   NaN   \n",
            "3                78934 Hillside Dr.           NaN       Pasadena    CA   \n",
            "4                   7734 Strong St.           NaN  San Francisco    CA   \n",
            "...                             ...           ...            ...   ...   \n",
            "2815   67, rue des Cinquante Otages           NaN         Nantes   NaN   \n",
            "2817               5905 Pompton St.     Suite 750            NYC    NY   \n",
            "2818             C/ Moralzarzal, 86           NaN         Madrid   NaN   \n",
            "2819                    Torikatu 38           NaN           Oulu   NaN   \n",
            "2821          1 rue Alsace-Lorraine           NaN       Toulouse   NaN   \n",
            "\n",
            "     POSTALCODE  COUNTRY TERRITORY CONTACTLASTNAME CONTACTFIRSTNAME DEALSIZE  \n",
            "0         10022      USA       NaN              Yu             Kwai    Small  \n",
            "1         51100   France      EMEA         Henriot             Paul    Small  \n",
            "2         75508   France      EMEA        Da Cunha           Daniel   Medium  \n",
            "3         90003      USA       NaN           Young            Julie   Medium  \n",
            "4           NaN      USA       NaN           Brown            Julie   Medium  \n",
            "...         ...      ...       ...             ...              ...      ...  \n",
            "2815      44000   France      EMEA         Labrune           Janine    Small  \n",
            "2817      10022      USA       NaN       Hernandez            Maria   Medium  \n",
            "2818      28034    Spain      EMEA          Freyre            Diego    Small  \n",
            "2819      90110  Finland      EMEA       Koskitalo           Pirkko   Medium  \n",
            "2821      31000   France      EMEA          Roulet          Annette    Small  \n",
            "\n",
            "[2617 rows x 25 columns]\n"
          ]
        }
      ]
    },
    {
      "cell_type": "code",
      "source": [
        "#9.\n",
        "\n",
        "a['ORDERDATE'] = pd.to_datetime(a['ORDERDATE'])\n",
        "a['ORDERDATE'] = a['ORDERDATE'].dt.quarter\n",
        "total_sales_per_quarter =a.groupby('QUARTER')['SALES'].sum().reset_index()\n",
        "print(total_sales_per_quarter)\n"
      ],
      "metadata": {
        "id": "YDpw_fhGXEBl",
        "outputId": "a314924c-61d2-4e1d-c771-0c9138f1eabd",
        "colab": {
          "base_uri": "https://localhost:8080/",
          "height": 365
        }
      },
      "execution_count": null,
      "outputs": [
        {
          "output_type": "error",
          "ename": "KeyError",
          "evalue": "'QUARTER'",
          "traceback": [
            "\u001b[0;31m---------------------------------------------------------------------------\u001b[0m",
            "\u001b[0;31mKeyError\u001b[0m                                  Traceback (most recent call last)",
            "\u001b[0;32m<ipython-input-36-75d2c88b3557>\u001b[0m in \u001b[0;36m<cell line: 5>\u001b[0;34m()\u001b[0m\n\u001b[1;32m      3\u001b[0m \u001b[0ma\u001b[0m\u001b[0;34m[\u001b[0m\u001b[0;34m'ORDERDATE'\u001b[0m\u001b[0;34m]\u001b[0m \u001b[0;34m=\u001b[0m \u001b[0mpd\u001b[0m\u001b[0;34m.\u001b[0m\u001b[0mto_datetime\u001b[0m\u001b[0;34m(\u001b[0m\u001b[0ma\u001b[0m\u001b[0;34m[\u001b[0m\u001b[0;34m'ORDERDATE'\u001b[0m\u001b[0;34m]\u001b[0m\u001b[0;34m)\u001b[0m\u001b[0;34m\u001b[0m\u001b[0;34m\u001b[0m\u001b[0m\n\u001b[1;32m      4\u001b[0m \u001b[0ma\u001b[0m\u001b[0;34m[\u001b[0m\u001b[0;34m'ORDERDATE'\u001b[0m\u001b[0;34m]\u001b[0m \u001b[0;34m=\u001b[0m \u001b[0ma\u001b[0m\u001b[0;34m[\u001b[0m\u001b[0;34m'ORDERDATE'\u001b[0m\u001b[0;34m]\u001b[0m\u001b[0;34m.\u001b[0m\u001b[0mdt\u001b[0m\u001b[0;34m.\u001b[0m\u001b[0mquarter\u001b[0m\u001b[0;34m\u001b[0m\u001b[0;34m\u001b[0m\u001b[0m\n\u001b[0;32m----> 5\u001b[0;31m \u001b[0mtotal_sales_per_quarter\u001b[0m \u001b[0;34m=\u001b[0m\u001b[0ma\u001b[0m\u001b[0;34m.\u001b[0m\u001b[0mgroupby\u001b[0m\u001b[0;34m(\u001b[0m\u001b[0;34m'QUARTER'\u001b[0m\u001b[0;34m)\u001b[0m\u001b[0;34m[\u001b[0m\u001b[0;34m'SALES'\u001b[0m\u001b[0;34m]\u001b[0m\u001b[0;34m.\u001b[0m\u001b[0msum\u001b[0m\u001b[0;34m(\u001b[0m\u001b[0;34m)\u001b[0m\u001b[0;34m.\u001b[0m\u001b[0mreset_index\u001b[0m\u001b[0;34m(\u001b[0m\u001b[0;34m)\u001b[0m\u001b[0;34m\u001b[0m\u001b[0;34m\u001b[0m\u001b[0m\n\u001b[0m\u001b[1;32m      6\u001b[0m \u001b[0mprint\u001b[0m\u001b[0;34m(\u001b[0m\u001b[0mtotal_sales_per_quarter\u001b[0m\u001b[0;34m)\u001b[0m\u001b[0;34m\u001b[0m\u001b[0;34m\u001b[0m\u001b[0m\n",
            "\u001b[0;32m/usr/local/lib/python3.10/dist-packages/pandas/core/frame.py\u001b[0m in \u001b[0;36mgroupby\u001b[0;34m(self, by, axis, level, as_index, sort, group_keys, squeeze, observed, dropna)\u001b[0m\n\u001b[1;32m   8400\u001b[0m         \u001b[0maxis\u001b[0m \u001b[0;34m=\u001b[0m \u001b[0mself\u001b[0m\u001b[0;34m.\u001b[0m\u001b[0m_get_axis_number\u001b[0m\u001b[0;34m(\u001b[0m\u001b[0maxis\u001b[0m\u001b[0;34m)\u001b[0m\u001b[0;34m\u001b[0m\u001b[0;34m\u001b[0m\u001b[0m\n\u001b[1;32m   8401\u001b[0m \u001b[0;34m\u001b[0m\u001b[0m\n\u001b[0;32m-> 8402\u001b[0;31m         return DataFrameGroupBy(\n\u001b[0m\u001b[1;32m   8403\u001b[0m             \u001b[0mobj\u001b[0m\u001b[0;34m=\u001b[0m\u001b[0mself\u001b[0m\u001b[0;34m,\u001b[0m\u001b[0;34m\u001b[0m\u001b[0;34m\u001b[0m\u001b[0m\n\u001b[1;32m   8404\u001b[0m             \u001b[0mkeys\u001b[0m\u001b[0;34m=\u001b[0m\u001b[0mby\u001b[0m\u001b[0;34m,\u001b[0m\u001b[0;34m\u001b[0m\u001b[0;34m\u001b[0m\u001b[0m\n",
            "\u001b[0;32m/usr/local/lib/python3.10/dist-packages/pandas/core/groupby/groupby.py\u001b[0m in \u001b[0;36m__init__\u001b[0;34m(self, obj, keys, axis, level, grouper, exclusions, selection, as_index, sort, group_keys, squeeze, observed, mutated, dropna)\u001b[0m\n\u001b[1;32m    963\u001b[0m             \u001b[0;32mfrom\u001b[0m \u001b[0mpandas\u001b[0m\u001b[0;34m.\u001b[0m\u001b[0mcore\u001b[0m\u001b[0;34m.\u001b[0m\u001b[0mgroupby\u001b[0m\u001b[0;34m.\u001b[0m\u001b[0mgrouper\u001b[0m \u001b[0;32mimport\u001b[0m \u001b[0mget_grouper\u001b[0m\u001b[0;34m\u001b[0m\u001b[0;34m\u001b[0m\u001b[0m\n\u001b[1;32m    964\u001b[0m \u001b[0;34m\u001b[0m\u001b[0m\n\u001b[0;32m--> 965\u001b[0;31m             grouper, exclusions, obj = get_grouper(\n\u001b[0m\u001b[1;32m    966\u001b[0m                 \u001b[0mobj\u001b[0m\u001b[0;34m,\u001b[0m\u001b[0;34m\u001b[0m\u001b[0;34m\u001b[0m\u001b[0m\n\u001b[1;32m    967\u001b[0m                 \u001b[0mkeys\u001b[0m\u001b[0;34m,\u001b[0m\u001b[0;34m\u001b[0m\u001b[0;34m\u001b[0m\u001b[0m\n",
            "\u001b[0;32m/usr/local/lib/python3.10/dist-packages/pandas/core/groupby/grouper.py\u001b[0m in \u001b[0;36mget_grouper\u001b[0;34m(obj, key, axis, level, sort, observed, mutated, validate, dropna)\u001b[0m\n\u001b[1;32m    886\u001b[0m                 \u001b[0min_axis\u001b[0m\u001b[0;34m,\u001b[0m \u001b[0mlevel\u001b[0m\u001b[0;34m,\u001b[0m \u001b[0mgpr\u001b[0m \u001b[0;34m=\u001b[0m \u001b[0;32mFalse\u001b[0m\u001b[0;34m,\u001b[0m \u001b[0mgpr\u001b[0m\u001b[0;34m,\u001b[0m \u001b[0;32mNone\u001b[0m\u001b[0;34m\u001b[0m\u001b[0;34m\u001b[0m\u001b[0m\n\u001b[1;32m    887\u001b[0m             \u001b[0;32melse\u001b[0m\u001b[0;34m:\u001b[0m\u001b[0;34m\u001b[0m\u001b[0;34m\u001b[0m\u001b[0m\n\u001b[0;32m--> 888\u001b[0;31m                 \u001b[0;32mraise\u001b[0m \u001b[0mKeyError\u001b[0m\u001b[0;34m(\u001b[0m\u001b[0mgpr\u001b[0m\u001b[0;34m)\u001b[0m\u001b[0;34m\u001b[0m\u001b[0;34m\u001b[0m\u001b[0m\n\u001b[0m\u001b[1;32m    889\u001b[0m         \u001b[0;32melif\u001b[0m \u001b[0misinstance\u001b[0m\u001b[0;34m(\u001b[0m\u001b[0mgpr\u001b[0m\u001b[0;34m,\u001b[0m \u001b[0mGrouper\u001b[0m\u001b[0;34m)\u001b[0m \u001b[0;32mand\u001b[0m \u001b[0mgpr\u001b[0m\u001b[0;34m.\u001b[0m\u001b[0mkey\u001b[0m \u001b[0;32mis\u001b[0m \u001b[0;32mnot\u001b[0m \u001b[0;32mNone\u001b[0m\u001b[0;34m:\u001b[0m\u001b[0;34m\u001b[0m\u001b[0;34m\u001b[0m\u001b[0m\n\u001b[1;32m    890\u001b[0m             \u001b[0;31m# Add key to exclusions\u001b[0m\u001b[0;34m\u001b[0m\u001b[0;34m\u001b[0m\u001b[0m\n",
            "\u001b[0;31mKeyError\u001b[0m: 'QUARTER'"
          ]
        }
      ]
    },
    {
      "cell_type": "code",
      "source": [
        "#10.\n",
        "import matplotlib.pyplot as plt\n",
        "\n",
        "def plot_sales_trend(a):\n",
        "    a['ORDERDATE'] = pd.to_datetime(a['ORDERDATE'])\n",
        "    a['YEAR'] = a['ORDERDATE'].dt.year\n",
        "    a['MONTH'] = a['ORDERDATE'].dt.month_name()\n",
        "\n",
        "    sales_trend = a.groupby(['YEAR', 'MONTH'])['SALES'].sum().reset_index()\n",
        "\n",
        "    plt.figure(figsize=(14, 6))\n",
        "    plt.plot(sales_trend['MONTH'] + ' ' + sales_trend['YEAR'].astype(str), sales_trend['SALES'], marker='o')\n",
        "    plt.xticks(rotation=45, ha='right')\n",
        "    plt.xlabel('Month and Year')\n",
        "    plt.ylabel('Total Sales')\n",
        "    plt.title('Sales Trend Over Time')\n",
        "    plt.grid(True)\n",
        "    plt.tight_layout()\n",
        "    plt.show()\n",
        "plot_sales_trend(a)\n"
      ],
      "metadata": {
        "id": "abjHLCDPX-2W",
        "outputId": "82f2646a-f3da-4818-b709-7576f1eecd53",
        "colab": {
          "base_uri": "https://localhost:8080/",
          "height": 400
        }
      },
      "execution_count": null,
      "outputs": [
        {
          "output_type": "display_data",
          "data": {
            "text/plain": [
              "<Figure size 1400x600 with 1 Axes>"
            ],
            "image/png": "[encoded data removed]"
          },
          "metadata": {}
        }
      ]
    }
  ],
  "metadata": {
    "colab": {
      "provenance": []
    },
    "kernelspec": {
      "display_name": "Python 3",
      "name": "python3"
    }
  },
  "nbformat": 4,
  "nbformat_minor": 0
}